{
 "cells": [
  {
   "cell_type": "code",
   "execution_count": 2,
   "id": "6ac75f47",
   "metadata": {},
   "outputs": [],
   "source": [
    "#Import Libraries\n",
    "\n",
    "import numpy as np\n",
    "import pandas as pd\n",
    "import matplotlib.pyplot as plt\n",
    "import seaborn as sn"
   ]
  },
  {
   "cell_type": "markdown",
   "id": "0ed3bf86",
   "metadata": {},
   "source": [
    "### Neural Network Libraries"
   ]
  },
  {
   "cell_type": "markdown",
   "id": "c78b1936",
   "metadata": {},
   "source": [
    "TensorFlow is a Python-based, free, open source machine learning platform, developed primarily by Google.\n",
    "\n",
    "Keras is a deep learning API for Python, built on top of TensorFlow, that provides a convenient way to define and train any kind of deep learning model.\n",
    "\n",
    "Installing Tensorflow library:\n",
    "\n",
    "Anaconda Prompt (Run as Administrator)> pip install tensorflow"
   ]
  },
  {
   "cell_type": "code",
   "execution_count": 3,
   "id": "ba26fd9e",
   "metadata": {},
   "outputs": [],
   "source": [
    "import tensorflow as tf\n",
    "from tensorflow import keras"
   ]
  },
  {
   "cell_type": "markdown",
   "id": "e3a552c8",
   "metadata": {},
   "source": [
    "# Load MNIST Data"
   ]
  },
  {
   "cell_type": "markdown",
   "id": "ff201b26",
   "metadata": {},
   "source": [
    "The MNIST dataset consists of 70,000 28x28 images of handwritten digits extracted from two NIST databases.\n",
    "\n",
    "The MNIST dataset consists of 70,000 28x28 black-and-white images of handwritten digits extracted from two NIST databases. There are 60,000 images in the training dataset and 10,000 images in the validation dataset, one class per digit so a total of 10 classes, with 7,000 images (6,000 train images and 1,000 test images) per class. Half of the image were drawn by Census Bureau employees and the other half by high school students (this split is evenly distributed in the training and testing sets).\n"
   ]
  },
  {
   "cell_type": "code",
   "execution_count": 45,
   "id": "e62c9c5a",
   "metadata": {},
   "outputs": [],
   "source": [
    "#load dataset\n",
    "\n",
    "(x_train, y_train), (x_test, y_test) = keras.datasets.mnist.load_data() #train-test 0.75-0.25 split"
   ]
  },
  {
   "cell_type": "markdown",
   "id": "ee2ddd1b",
   "metadata": {},
   "source": [
    "# Explore Data"
   ]
  },
  {
   "cell_type": "code",
   "execution_count": 46,
   "id": "1e19b048",
   "metadata": {},
   "outputs": [
    {
     "name": "stdout",
     "output_type": "stream",
     "text": [
      "Train: X=(60000, 28, 28), y=(60000,)\n",
      "Test: X=(10000, 28, 28), y=(10000,)\n"
     ]
    }
   ],
   "source": [
    "# summarize loaded dataset\n",
    "print('Train: X=%s, y=%s' % (x_train.shape, y_train.shape))\n",
    "print('Test: X=%s, y=%s' % (x_test.shape, y_test.shape))"
   ]
  },
  {
   "cell_type": "code",
   "execution_count": 11,
   "id": "a08c3bde",
   "metadata": {},
   "outputs": [
    {
     "data": {
      "text/plain": [
       "<matplotlib.image.AxesImage at 0x20fdbbcbe20>"
      ]
     },
     "execution_count": 11,
     "metadata": {},
     "output_type": "execute_result"
    },
    {
     "data": {
      "image/png": "[encoded data removed]",
      "text/plain": [
       "<Figure size 480x480 with 1 Axes>"
      ]
     },
     "metadata": {},
     "output_type": "display_data"
    }
   ],
   "source": [
    "#plot image based on x_train data\n",
    "\n",
    "plt.matshow(x_train[0])\n"
   ]
  },
  {
   "cell_type": "code",
   "execution_count": 12,
   "id": "2e844c6b",
   "metadata": {},
   "outputs": [
    {
     "name": "stdout",
     "output_type": "stream",
     "text": [
      "5\n"
     ]
    }
   ],
   "source": [
    "#print y_train\n",
    "\n",
    "print(y_train[0])"
   ]
  },
  {
   "cell_type": "code",
   "execution_count": 13,
   "id": "bfab5696",
   "metadata": {},
   "outputs": [
    {
     "name": "stdout",
     "output_type": "stream",
     "text": [
      "(28, 28)\n",
      "[[  0   0   0   0   0   0   0   0   0   0   0   0   0   0   0   0   0   0\n",
      "    0   0   0   0   0   0   0   0   0   0]\n",
      " [  0   0   0   0   0   0   0   0   0   0   0   0   0   0   0   0   0   0\n",
      "    0   0   0   0   0   0   0   0   0   0]\n",
      " [  0   0   0   0   0   0   0   0   0   0   0   0   0   0   0   0   0   0\n",
      "    0   0   0   0   0   0   0   0   0   0]\n",
      " [  0   0   0   0   0   0   0   0   0   0   0   0   0   0   0   0   0   0\n",
      "    0   0   0   0   0   0   0   0   0   0]\n",
      " [  0   0   0   0   0   0   0   0   0   0   0   0   0   0   0   0   0   0\n",
      "    0   0   0   0   0   0   0   0   0   0]\n",
      " [  0   0   0   0   0   0   0   0   0   0   0   0   3  18  18  18 126 136\n",
      "  175  26 166 255 247 127   0   0   0   0]\n",
      " [  0   0   0   0   0   0   0   0  30  36  94 154 170 253 253 253 253 253\n",
      "  225 172 253 242 195  64   0   0   0   0]\n",
      " [  0   0   0   0   0   0   0  49 238 253 253 253 253 253 253 253 253 251\n",
      "   93  82  82  56  39   0   0   0   0   0]\n",
      " [  0   0   0   0   0   0   0  18 219 253 253 253 253 253 198 182 247 241\n",
      "    0   0   0   0   0   0   0   0   0   0]\n",
      " [  0   0   0   0   0   0   0   0  80 156 107 253 253 205  11   0  43 154\n",
      "    0   0   0   0   0   0   0   0   0   0]\n",
      " [  0   0   0   0   0   0   0   0   0  14   1 154 253  90   0   0   0   0\n",
      "    0   0   0   0   0   0   0   0   0   0]\n",
      " [  0   0   0   0   0   0   0   0   0   0   0 139 253 190   2   0   0   0\n",
      "    0   0   0   0   0   0   0   0   0   0]\n",
      " [  0   0   0   0   0   0   0   0   0   0   0  11 190 253  70   0   0   0\n",
      "    0   0   0   0   0   0   0   0   0   0]\n",
      " [  0   0   0   0   0   0   0   0   0   0   0   0  35 241 225 160 108   1\n",
      "    0   0   0   0   0   0   0   0   0   0]\n",
      " [  0   0   0   0   0   0   0   0   0   0   0   0   0  81 240 253 253 119\n",
      "   25   0   0   0   0   0   0   0   0   0]\n",
      " [  0   0   0   0   0   0   0   0   0   0   0   0   0   0  45 186 253 253\n",
      "  150  27   0   0   0   0   0   0   0   0]\n",
      " [  0   0   0   0   0   0   0   0   0   0   0   0   0   0   0  16  93 252\n",
      "  253 187   0   0   0   0   0   0   0   0]\n",
      " [  0   0   0   0   0   0   0   0   0   0   0   0   0   0   0   0   0 249\n",
      "  253 249  64   0   0   0   0   0   0   0]\n",
      " [  0   0   0   0   0   0   0   0   0   0   0   0   0   0  46 130 183 253\n",
      "  253 207   2   0   0   0   0   0   0   0]\n",
      " [  0   0   0   0   0   0   0   0   0   0   0   0  39 148 229 253 253 253\n",
      "  250 182   0   0   0   0   0   0   0   0]\n",
      " [  0   0   0   0   0   0   0   0   0   0  24 114 221 253 253 253 253 201\n",
      "   78   0   0   0   0   0   0   0   0   0]\n",
      " [  0   0   0   0   0   0   0   0  23  66 213 253 253 253 253 198  81   2\n",
      "    0   0   0   0   0   0   0   0   0   0]\n",
      " [  0   0   0   0   0   0  18 171 219 253 253 253 253 195  80   9   0   0\n",
      "    0   0   0   0   0   0   0   0   0   0]\n",
      " [  0   0   0   0  55 172 226 253 253 253 253 244 133  11   0   0   0   0\n",
      "    0   0   0   0   0   0   0   0   0   0]\n",
      " [  0   0   0   0 136 253 253 253 212 135 132  16   0   0   0   0   0   0\n",
      "    0   0   0   0   0   0   0   0   0   0]\n",
      " [  0   0   0   0   0   0   0   0   0   0   0   0   0   0   0   0   0   0\n",
      "    0   0   0   0   0   0   0   0   0   0]\n",
      " [  0   0   0   0   0   0   0   0   0   0   0   0   0   0   0   0   0   0\n",
      "    0   0   0   0   0   0   0   0   0   0]\n",
      " [  0   0   0   0   0   0   0   0   0   0   0   0   0   0   0   0   0   0\n",
      "    0   0   0   0   0   0   0   0   0   0]]\n"
     ]
    }
   ],
   "source": [
    "#print x_train\n",
    "# 28X28 grid\n",
    "\n",
    "print(x_train[0].shape)\n",
    "print(x_train[0])"
   ]
  },
  {
   "cell_type": "code",
   "execution_count": 15,
   "id": "ea8e1cb5",
   "metadata": {},
   "outputs": [
    {
     "data": {
      "image/png": "[encoded data removed]",
      "text/plain": [
       "<Figure size 640x480 with 9 Axes>"
      ]
     },
     "metadata": {},
     "output_type": "display_data"
    }
   ],
   "source": [
    "# plot first few images\n",
    "\n",
    "for i in range(9):\n",
    "    \n",
    "    # define subplot with 3 rows and 3 columns, index from 1 to 9\n",
    "    plt.subplot(3,3,i+1)\n",
    "    \n",
    "    # plot pixel data\n",
    "    plt.imshow(x_train[i])\n",
    "    \n",
    "# show the figure\n",
    "plt.show()"
   ]
  },
  {
   "cell_type": "markdown",
   "id": "555b59ab",
   "metadata": {},
   "source": [
    "# Prepare Data"
   ]
  },
  {
   "cell_type": "markdown",
   "id": "44ca183d",
   "metadata": {},
   "source": [
    "### Normalization\n",
    "Normalization is the process of scaling and centering the features of a dataset. \n",
    "The goal of normalization is to bring all features to a similar scale so that they contribute equally to the learning process and no single feature dominates due to its larger magnitude. "
   ]
  },
  {
   "cell_type": "code",
   "execution_count": 47,
   "id": "87cdbc0b",
   "metadata": {},
   "outputs": [
    {
     "name": "stdout",
     "output_type": "stream",
     "text": [
      "[[0.         0.         0.         0.         0.         0.\n",
      "  0.         0.         0.         0.         0.         0.\n",
      "  0.         0.         0.         0.         0.         0.\n",
      "  0.         0.         0.         0.         0.         0.\n",
      "  0.         0.         0.         0.        ]\n",
      " [0.         0.         0.         0.         0.         0.\n",
      "  0.         0.         0.         0.         0.         0.\n",
      "  0.         0.         0.         0.         0.         0.\n",
      "  0.         0.         0.         0.         0.         0.\n",
      "  0.         0.         0.         0.        ]\n",
      " [0.         0.         0.         0.         0.         0.\n",
      "  0.         0.         0.         0.         0.         0.\n",
      "  0.         0.         0.         0.         0.         0.\n",
      "  0.         0.         0.         0.         0.         0.\n",
      "  0.         0.         0.         0.        ]\n",
      " [0.         0.         0.         0.         0.         0.\n",
      "  0.         0.         0.         0.         0.         0.\n",
      "  0.         0.         0.         0.         0.         0.\n",
      "  0.         0.         0.         0.         0.         0.\n",
      "  0.         0.         0.         0.        ]\n",
      " [0.         0.         0.         0.         0.         0.\n",
      "  0.         0.         0.         0.         0.         0.\n",
      "  0.         0.         0.         0.         0.         0.\n",
      "  0.         0.         0.         0.         0.         0.\n",
      "  0.         0.         0.         0.        ]\n",
      " [0.         0.         0.         0.         0.         0.\n",
      "  0.         0.         0.         0.         0.         0.\n",
      "  0.01176471 0.07058824 0.07058824 0.07058824 0.49411765 0.53333333\n",
      "  0.68627451 0.10196078 0.65098039 1.         0.96862745 0.49803922\n",
      "  0.         0.         0.         0.        ]\n",
      " [0.         0.         0.         0.         0.         0.\n",
      "  0.         0.         0.11764706 0.14117647 0.36862745 0.60392157\n",
      "  0.66666667 0.99215686 0.99215686 0.99215686 0.99215686 0.99215686\n",
      "  0.88235294 0.6745098  0.99215686 0.94901961 0.76470588 0.25098039\n",
      "  0.         0.         0.         0.        ]\n",
      " [0.         0.         0.         0.         0.         0.\n",
      "  0.         0.19215686 0.93333333 0.99215686 0.99215686 0.99215686\n",
      "  0.99215686 0.99215686 0.99215686 0.99215686 0.99215686 0.98431373\n",
      "  0.36470588 0.32156863 0.32156863 0.21960784 0.15294118 0.\n",
      "  0.         0.         0.         0.        ]\n",
      " [0.         0.         0.         0.         0.         0.\n",
      "  0.         0.07058824 0.85882353 0.99215686 0.99215686 0.99215686\n",
      "  0.99215686 0.99215686 0.77647059 0.71372549 0.96862745 0.94509804\n",
      "  0.         0.         0.         0.         0.         0.\n",
      "  0.         0.         0.         0.        ]\n",
      " [0.         0.         0.         0.         0.         0.\n",
      "  0.         0.         0.31372549 0.61176471 0.41960784 0.99215686\n",
      "  0.99215686 0.80392157 0.04313725 0.         0.16862745 0.60392157\n",
      "  0.         0.         0.         0.         0.         0.\n",
      "  0.         0.         0.         0.        ]\n",
      " [0.         0.         0.         0.         0.         0.\n",
      "  0.         0.         0.         0.05490196 0.00392157 0.60392157\n",
      "  0.99215686 0.35294118 0.         0.         0.         0.\n",
      "  0.         0.         0.         0.         0.         0.\n",
      "  0.         0.         0.         0.        ]\n",
      " [0.         0.         0.         0.         0.         0.\n",
      "  0.         0.         0.         0.         0.         0.54509804\n",
      "  0.99215686 0.74509804 0.00784314 0.         0.         0.\n",
      "  0.         0.         0.         0.         0.         0.\n",
      "  0.         0.         0.         0.        ]\n",
      " [0.         0.         0.         0.         0.         0.\n",
      "  0.         0.         0.         0.         0.         0.04313725\n",
      "  0.74509804 0.99215686 0.2745098  0.         0.         0.\n",
      "  0.         0.         0.         0.         0.         0.\n",
      "  0.         0.         0.         0.        ]\n",
      " [0.         0.         0.         0.         0.         0.\n",
      "  0.         0.         0.         0.         0.         0.\n",
      "  0.1372549  0.94509804 0.88235294 0.62745098 0.42352941 0.00392157\n",
      "  0.         0.         0.         0.         0.         0.\n",
      "  0.         0.         0.         0.        ]\n",
      " [0.         0.         0.         0.         0.         0.\n",
      "  0.         0.         0.         0.         0.         0.\n",
      "  0.         0.31764706 0.94117647 0.99215686 0.99215686 0.46666667\n",
      "  0.09803922 0.         0.         0.         0.         0.\n",
      "  0.         0.         0.         0.        ]\n",
      " [0.         0.         0.         0.         0.         0.\n",
      "  0.         0.         0.         0.         0.         0.\n",
      "  0.         0.         0.17647059 0.72941176 0.99215686 0.99215686\n",
      "  0.58823529 0.10588235 0.         0.         0.         0.\n",
      "  0.         0.         0.         0.        ]\n",
      " [0.         0.         0.         0.         0.         0.\n",
      "  0.         0.         0.         0.         0.         0.\n",
      "  0.         0.         0.         0.0627451  0.36470588 0.98823529\n",
      "  0.99215686 0.73333333 0.         0.         0.         0.\n",
      "  0.         0.         0.         0.        ]\n",
      " [0.         0.         0.         0.         0.         0.\n",
      "  0.         0.         0.         0.         0.         0.\n",
      "  0.         0.         0.         0.         0.         0.97647059\n",
      "  0.99215686 0.97647059 0.25098039 0.         0.         0.\n",
      "  0.         0.         0.         0.        ]\n",
      " [0.         0.         0.         0.         0.         0.\n",
      "  0.         0.         0.         0.         0.         0.\n",
      "  0.         0.         0.18039216 0.50980392 0.71764706 0.99215686\n",
      "  0.99215686 0.81176471 0.00784314 0.         0.         0.\n",
      "  0.         0.         0.         0.        ]\n",
      " [0.         0.         0.         0.         0.         0.\n",
      "  0.         0.         0.         0.         0.         0.\n",
      "  0.15294118 0.58039216 0.89803922 0.99215686 0.99215686 0.99215686\n",
      "  0.98039216 0.71372549 0.         0.         0.         0.\n",
      "  0.         0.         0.         0.        ]\n",
      " [0.         0.         0.         0.         0.         0.\n",
      "  0.         0.         0.         0.         0.09411765 0.44705882\n",
      "  0.86666667 0.99215686 0.99215686 0.99215686 0.99215686 0.78823529\n",
      "  0.30588235 0.         0.         0.         0.         0.\n",
      "  0.         0.         0.         0.        ]\n",
      " [0.         0.         0.         0.         0.         0.\n",
      "  0.         0.         0.09019608 0.25882353 0.83529412 0.99215686\n",
      "  0.99215686 0.99215686 0.99215686 0.77647059 0.31764706 0.00784314\n",
      "  0.         0.         0.         0.         0.         0.\n",
      "  0.         0.         0.         0.        ]\n",
      " [0.         0.         0.         0.         0.         0.\n",
      "  0.07058824 0.67058824 0.85882353 0.99215686 0.99215686 0.99215686\n",
      "  0.99215686 0.76470588 0.31372549 0.03529412 0.         0.\n",
      "  0.         0.         0.         0.         0.         0.\n",
      "  0.         0.         0.         0.        ]\n",
      " [0.         0.         0.         0.         0.21568627 0.6745098\n",
      "  0.88627451 0.99215686 0.99215686 0.99215686 0.99215686 0.95686275\n",
      "  0.52156863 0.04313725 0.         0.         0.         0.\n",
      "  0.         0.         0.         0.         0.         0.\n",
      "  0.         0.         0.         0.        ]\n",
      " [0.         0.         0.         0.         0.53333333 0.99215686\n",
      "  0.99215686 0.99215686 0.83137255 0.52941176 0.51764706 0.0627451\n",
      "  0.         0.         0.         0.         0.         0.\n",
      "  0.         0.         0.         0.         0.         0.\n",
      "  0.         0.         0.         0.        ]\n",
      " [0.         0.         0.         0.         0.         0.\n",
      "  0.         0.         0.         0.         0.         0.\n",
      "  0.         0.         0.         0.         0.         0.\n",
      "  0.         0.         0.         0.         0.         0.\n",
      "  0.         0.         0.         0.        ]\n",
      " [0.         0.         0.         0.         0.         0.\n",
      "  0.         0.         0.         0.         0.         0.\n",
      "  0.         0.         0.         0.         0.         0.\n",
      "  0.         0.         0.         0.         0.         0.\n",
      "  0.         0.         0.         0.        ]\n",
      " [0.         0.         0.         0.         0.         0.\n",
      "  0.         0.         0.         0.         0.         0.\n",
      "  0.         0.         0.         0.         0.         0.\n",
      "  0.         0.         0.         0.         0.         0.\n",
      "  0.         0.         0.         0.        ]]\n"
     ]
    }
   ],
   "source": [
    "#normalize data by scaling\n",
    "#we can scale data range (0-255) scaled to 0-1, by dividing by 255\n",
    "\n",
    "x_train = x_train / 255\n",
    "x_test = x_test / 255\n",
    "\n",
    "print(x_train[0])"
   ]
  },
  {
   "cell_type": "markdown",
   "id": "71366aa9",
   "metadata": {},
   "source": [
    "# Flattening"
   ]
  },
  {
   "cell_type": "markdown",
   "id": "18168f37",
   "metadata": {},
   "source": [
    "Flattening is the process of converting multi-dimensional data, such as images or tensors, into a one-dimensional vector. \n",
    "\n",
    "This is often a necessary step when passing data to a neural network's input layer, which typically expects one-dimensional input.\n",
    "\n",
    "We are flattenning 28*28 2D input data into one dimensional data with length 784"
   ]
  },
  {
   "cell_type": "code",
   "execution_count": 48,
   "id": "5bdc922c",
   "metadata": {},
   "outputs": [
    {
     "name": "stdout",
     "output_type": "stream",
     "text": [
      "Before flattening, shape of x_train is  (60000, 28, 28)\n",
      "Before flattening, shape of each x_train data is  (28, 28)\n",
      "After flattening, shape of x_train is  (60000, 784)\n",
      "After flattening, shape of each x_train data is  (784,)\n"
     ]
    }
   ],
   "source": [
    "#flatten 28x28 grids into longitudanal input\n",
    "\n",
    "print(\"Before flattening, shape of x_train is \", x_train.shape)\n",
    "print(\"Before flattening, shape of each x_train data is \", x_train[0].shape)\n",
    "\n",
    "# input_size = 28*28= 784\n",
    "input_vector_size = 28*28\n",
    "\n",
    "x_train = x_train.reshape(len(x_train), input_vector_size)\n",
    "x_test = x_test.reshape(len(x_test), input_vector_size)\n",
    "\n",
    "print(\"After flattening, shape of x_train is \", x_train.shape)\n",
    "print(\"After flattening, shape of each x_train data is \", x_train[0].shape)"
   ]
  },
  {
   "cell_type": "markdown",
   "id": "121c6329",
   "metadata": {},
   "source": [
    "# Define Neural Network Model Architecture"
   ]
  },
  {
   "cell_type": "markdown",
   "id": "0b5ef571",
   "metadata": {},
   "source": [
    "Sequential groups a linear stack of layers into a tf.keras.Model\n",
    "\n",
    "Dense layers are \"fully connected\" layers\n",
    "\n",
    "Sequential Documentation: https://keras.io/models/sequential/"
   ]
  },
  {
   "cell_type": "code",
   "execution_count": 51,
   "id": "5727fc91",
   "metadata": {},
   "outputs": [
    {
     "name": "stdout",
     "output_type": "stream",
     "text": [
      "Model: \"sequential_1\"\n",
      "_________________________________________________________________\n",
      " Layer (type)                Output Shape              Param #   \n",
      "=================================================================\n",
      " dense_2 (Dense)             (None, 32)                25120     \n",
      "                                                                 \n",
      " dense_3 (Dense)             (None, 10)                330       \n",
      "                                                                 \n",
      "=================================================================\n",
      "Total params: 25,450\n",
      "Trainable params: 25,450\n",
      "Non-trainable params: 0\n",
      "_________________________________________________________________\n"
     ]
    }
   ],
   "source": [
    "# Define Neural Network model architecture\n",
    "\n",
    "#define dense sequential neural network with 784 inputs, 10 outputs \n",
    "# one hidden layer with 32 neurons and sigmoid activation function\n",
    "\n",
    "#input size\n",
    "image_size = 784 # 28*28\n",
    "\n",
    "#output size\n",
    "num_classes = 10 # ten unique digits\n",
    "\n",
    "#define model type as Sequential. Sequential groups a linear stack of layers\n",
    "#define hidden layer: neurons= 32, activation= sigmoid\n",
    "#define output layer: neurons= 10, activation= softmax\n",
    "\n",
    "model = keras.Sequential()\n",
    "model.add(keras.layers.Dense(units=32, activation='sigmoid', input_shape=(image_size,))) \n",
    "model.add(keras.layers.Dense(units=num_classes, activation='softmax')) \n",
    "\n",
    "\n",
    "model.summary() #print the model architecture"
   ]
  },
  {
   "cell_type": "markdown",
   "id": "f0e98033",
   "metadata": {},
   "source": [
    "The resulting architecture has 25,450 tunable parameters. \n",
    "From the input layer to the hidden layer there are 784*32 = 25,088 weights. \n",
    "\n",
    "The hidden layer has 32 nodes so there are 32 biases. \n",
    "This brings us to 25,088 + 32 = 25,120 parameters.\n",
    "\n",
    "From the hidden layer to the output layer there are 32*10 = 320 weights.\n",
    "Each of the ten nodes adds a single bias bringing us to 25,120 + 320 + 10 = 25,450 total parameters."
   ]
  },
  {
   "cell_type": "markdown",
   "id": "3a1a88bb",
   "metadata": {},
   "source": [
    "## Compile Model"
   ]
  },
  {
   "cell_type": "markdown",
   "id": "a45c16bb",
   "metadata": {},
   "source": [
    "After creating a neural network architecture, the next step is to compile the model before training it on data. \n",
    "\n",
    "The compilation step involves configuring the model with specific settings that are necessary for training. \n",
    "\n",
    "Optimizer: The optimization algorithm used to update the model parameters during training. Common optimizers include SGD (Stochastic Gradient Descent), Adam, RMSprop.\n",
    "\n",
    "Loss function: The quantity that will be minimized during training.\n",
    "The choice of the loss function depends on the nature of the task, such as mean squared error for regression or categorical cross-entropy for classification.\n",
    "\n",
    "Metrics: These are additional metrics to monitor during training and evaluation. Unlike the loss, training will not optimize directly for these metrics. "
   ]
  },
  {
   "cell_type": "code",
   "execution_count": 52,
   "id": "303996e3",
   "metadata": {},
   "outputs": [],
   "source": [
    "#compile the neural network model\n",
    "\n",
    "#Sparse_categorial_entropy is used as there are multiple labels provided as integers.\n",
    "\n",
    "model.compile(optimizer=\"sgd\", \n",
    "              loss='sparse_categorical_crossentropy', \n",
    "              metrics=['accuracy'])\n"
   ]
  },
  {
   "cell_type": "markdown",
   "id": "929e8370",
   "metadata": {},
   "source": [
    "## Train the model"
   ]
  },
  {
   "cell_type": "code",
   "execution_count": 53,
   "id": "f42b8a6b",
   "metadata": {},
   "outputs": [
    {
     "name": "stdout",
     "output_type": "stream",
     "text": [
      "Epoch 1/50\n",
      "400/400 [==============================] - 1s 1ms/step - loss: 2.1370 - accuracy: 0.4091 - val_loss: 1.9573 - val_accuracy: 0.6059\n",
      "Epoch 2/50\n",
      "400/400 [==============================] - 0s 1ms/step - loss: 1.8137 - accuracy: 0.6273 - val_loss: 1.6578 - val_accuracy: 0.6637\n",
      "Epoch 3/50\n",
      "400/400 [==============================] - 0s 1ms/step - loss: 1.5435 - accuracy: 0.6786 - val_loss: 1.4101 - val_accuracy: 0.7278\n",
      "Epoch 4/50\n",
      "400/400 [==============================] - 0s 1ms/step - loss: 1.3279 - accuracy: 0.7295 - val_loss: 1.2170 - val_accuracy: 0.7686\n",
      "Epoch 5/50\n",
      "400/400 [==============================] - 0s 1ms/step - loss: 1.1616 - accuracy: 0.7668 - val_loss: 1.0681 - val_accuracy: 0.7987\n",
      "Epoch 6/50\n",
      "400/400 [==============================] - 0s 1ms/step - loss: 1.0329 - accuracy: 0.7933 - val_loss: 0.9522 - val_accuracy: 0.8228\n",
      "Epoch 7/50\n",
      "400/400 [==============================] - 0s 1ms/step - loss: 0.9319 - accuracy: 0.8134 - val_loss: 0.8608 - val_accuracy: 0.8387\n",
      "Epoch 8/50\n",
      "400/400 [==============================] - 0s 1ms/step - loss: 0.8513 - accuracy: 0.8291 - val_loss: 0.7876 - val_accuracy: 0.8491\n",
      "Epoch 9/50\n",
      "400/400 [==============================] - 0s 1ms/step - loss: 0.7861 - accuracy: 0.8394 - val_loss: 0.7281 - val_accuracy: 0.8562\n",
      "Epoch 10/50\n",
      "400/400 [==============================] - 0s 1ms/step - loss: 0.7325 - accuracy: 0.8477 - val_loss: 0.6790 - val_accuracy: 0.8622\n",
      "Epoch 11/50\n",
      "400/400 [==============================] - 0s 1ms/step - loss: 0.6879 - accuracy: 0.8540 - val_loss: 0.6380 - val_accuracy: 0.8662\n",
      "Epoch 12/50\n",
      "400/400 [==============================] - 0s 1ms/step - loss: 0.6504 - accuracy: 0.8586 - val_loss: 0.6035 - val_accuracy: 0.8716\n",
      "Epoch 13/50\n",
      "400/400 [==============================] - 0s 1ms/step - loss: 0.6184 - accuracy: 0.8631 - val_loss: 0.5741 - val_accuracy: 0.8749\n",
      "Epoch 14/50\n",
      "400/400 [==============================] - 1s 1ms/step - loss: 0.5910 - accuracy: 0.8669 - val_loss: 0.5489 - val_accuracy: 0.8782\n",
      "Epoch 15/50\n",
      "400/400 [==============================] - 0s 1ms/step - loss: 0.5671 - accuracy: 0.8709 - val_loss: 0.5269 - val_accuracy: 0.8803\n",
      "Epoch 16/50\n",
      "400/400 [==============================] - 0s 1ms/step - loss: 0.5463 - accuracy: 0.8741 - val_loss: 0.5077 - val_accuracy: 0.8841\n",
      "Epoch 17/50\n",
      "400/400 [==============================] - 0s 997us/step - loss: 0.5279 - accuracy: 0.8763 - val_loss: 0.4909 - val_accuracy: 0.8858\n",
      "Epoch 18/50\n",
      "400/400 [==============================] - 0s 1ms/step - loss: 0.5117 - accuracy: 0.8780 - val_loss: 0.4758 - val_accuracy: 0.8881\n",
      "Epoch 19/50\n",
      "400/400 [==============================] - 0s 1ms/step - loss: 0.4972 - accuracy: 0.8805 - val_loss: 0.4626 - val_accuracy: 0.8888\n",
      "Epoch 20/50\n",
      "400/400 [==============================] - 0s 973us/step - loss: 0.4841 - accuracy: 0.8820 - val_loss: 0.4506 - val_accuracy: 0.8898\n",
      "Epoch 21/50\n",
      "400/400 [==============================] - 0s 1ms/step - loss: 0.4724 - accuracy: 0.8835 - val_loss: 0.4398 - val_accuracy: 0.8917\n",
      "Epoch 22/50\n",
      "400/400 [==============================] - 0s 1ms/step - loss: 0.4617 - accuracy: 0.8854 - val_loss: 0.4299 - val_accuracy: 0.8924\n",
      "Epoch 23/50\n",
      "400/400 [==============================] - 0s 999us/step - loss: 0.4520 - accuracy: 0.8868 - val_loss: 0.4210 - val_accuracy: 0.8946\n",
      "Epoch 24/50\n",
      "400/400 [==============================] - 0s 1ms/step - loss: 0.4431 - accuracy: 0.8885 - val_loss: 0.4128 - val_accuracy: 0.8949\n",
      "Epoch 25/50\n",
      "400/400 [==============================] - 0s 1ms/step - loss: 0.4348 - accuracy: 0.8895 - val_loss: 0.4054 - val_accuracy: 0.8969\n",
      "Epoch 26/50\n",
      "400/400 [==============================] - 0s 1ms/step - loss: 0.4273 - accuracy: 0.8904 - val_loss: 0.3983 - val_accuracy: 0.8981\n",
      "Epoch 27/50\n",
      "400/400 [==============================] - 0s 1ms/step - loss: 0.4203 - accuracy: 0.8915 - val_loss: 0.3919 - val_accuracy: 0.8988\n",
      "Epoch 28/50\n",
      "400/400 [==============================] - 0s 1ms/step - loss: 0.4138 - accuracy: 0.8925 - val_loss: 0.3859 - val_accuracy: 0.8997\n",
      "Epoch 29/50\n",
      "400/400 [==============================] - 1s 1ms/step - loss: 0.4077 - accuracy: 0.8934 - val_loss: 0.3805 - val_accuracy: 0.9011\n",
      "Epoch 30/50\n",
      "400/400 [==============================] - 1s 1ms/step - loss: 0.4020 - accuracy: 0.8943 - val_loss: 0.3752 - val_accuracy: 0.9022\n",
      "Epoch 31/50\n",
      "400/400 [==============================] - 1s 1ms/step - loss: 0.3967 - accuracy: 0.8953 - val_loss: 0.3705 - val_accuracy: 0.9028\n",
      "Epoch 32/50\n",
      "400/400 [==============================] - 1s 1ms/step - loss: 0.3917 - accuracy: 0.8965 - val_loss: 0.3659 - val_accuracy: 0.9030\n",
      "Epoch 33/50\n",
      "400/400 [==============================] - 1s 1ms/step - loss: 0.3870 - accuracy: 0.8972 - val_loss: 0.3616 - val_accuracy: 0.9038\n",
      "Epoch 34/50\n",
      "400/400 [==============================] - 1s 1ms/step - loss: 0.3825 - accuracy: 0.8982 - val_loss: 0.3575 - val_accuracy: 0.9047\n",
      "Epoch 35/50\n",
      "400/400 [==============================] - 1s 1ms/step - loss: 0.3783 - accuracy: 0.8993 - val_loss: 0.3536 - val_accuracy: 0.9062\n",
      "Epoch 36/50\n",
      "400/400 [==============================] - 1s 1ms/step - loss: 0.3743 - accuracy: 0.9001 - val_loss: 0.3500 - val_accuracy: 0.9072\n",
      "Epoch 37/50\n",
      "400/400 [==============================] - 0s 1ms/step - loss: 0.3705 - accuracy: 0.9008 - val_loss: 0.3466 - val_accuracy: 0.9078\n",
      "Epoch 38/50\n",
      "400/400 [==============================] - 1s 1ms/step - loss: 0.3668 - accuracy: 0.9016 - val_loss: 0.3433 - val_accuracy: 0.9083\n",
      "Epoch 39/50\n",
      "400/400 [==============================] - 1s 1ms/step - loss: 0.3633 - accuracy: 0.9024 - val_loss: 0.3402 - val_accuracy: 0.9089\n",
      "Epoch 40/50\n",
      "400/400 [==============================] - 1s 1ms/step - loss: 0.3600 - accuracy: 0.9032 - val_loss: 0.3372 - val_accuracy: 0.9095\n",
      "Epoch 41/50\n",
      "400/400 [==============================] - 1s 2ms/step - loss: 0.3568 - accuracy: 0.9039 - val_loss: 0.3343 - val_accuracy: 0.9096\n",
      "Epoch 42/50\n",
      "400/400 [==============================] - 1s 1ms/step - loss: 0.3538 - accuracy: 0.9042 - val_loss: 0.3316 - val_accuracy: 0.9103\n",
      "Epoch 43/50\n",
      "400/400 [==============================] - 1s 1ms/step - loss: 0.3508 - accuracy: 0.9050 - val_loss: 0.3289 - val_accuracy: 0.9106\n",
      "Epoch 44/50\n",
      "400/400 [==============================] - 1s 2ms/step - loss: 0.3480 - accuracy: 0.9056 - val_loss: 0.3264 - val_accuracy: 0.9114\n",
      "Epoch 45/50\n",
      "400/400 [==============================] - 1s 2ms/step - loss: 0.3453 - accuracy: 0.9059 - val_loss: 0.3240 - val_accuracy: 0.9124\n",
      "Epoch 46/50\n",
      "400/400 [==============================] - 1s 2ms/step - loss: 0.3427 - accuracy: 0.9064 - val_loss: 0.3216 - val_accuracy: 0.9127\n",
      "Epoch 47/50\n",
      "400/400 [==============================] - 1s 2ms/step - loss: 0.3401 - accuracy: 0.9071 - val_loss: 0.3194 - val_accuracy: 0.9128\n",
      "Epoch 48/50\n",
      "400/400 [==============================] - 1s 1ms/step - loss: 0.3377 - accuracy: 0.9073 - val_loss: 0.3172 - val_accuracy: 0.9132\n",
      "Epoch 49/50\n",
      "400/400 [==============================] - 1s 1ms/step - loss: 0.3353 - accuracy: 0.9078 - val_loss: 0.3150 - val_accuracy: 0.9137\n",
      "Epoch 50/50\n",
      "400/400 [==============================] - 1s 1ms/step - loss: 0.3330 - accuracy: 0.9085 - val_loss: 0.3130 - val_accuracy: 0.9141\n"
     ]
    }
   ],
   "source": [
    "#track history of training the model\n",
    "\n",
    "#epochs=50 means the model will iterate over the entire training dataset 50 times.\n",
    "\n",
    "history= model.fit(x_train, y_train, batch_size=120, epochs=50, validation_split=0.2)\n"
   ]
  },
  {
   "cell_type": "markdown",
   "id": "c1843076",
   "metadata": {},
   "source": [
    "## Model Evaluation"
   ]
  },
  {
   "cell_type": "code",
   "execution_count": 54,
   "id": "22571cfb",
   "metadata": {},
   "outputs": [
    {
     "data": {
      "image/png": "[encoded data removed]",
      "text/plain": [
       "<Figure size 640x480 with 1 Axes>"
      ]
     },
     "metadata": {},
     "output_type": "display_data"
    }
   ],
   "source": [
    "# summarize history for accuracy\n",
    "plt.plot(history.history['accuracy'])\n",
    "plt.plot(history.history['val_accuracy'])\n",
    "plt.title('Model Accuracy')\n",
    "plt.ylabel('accuracy')\n",
    "plt.xlabel('epoch')\n",
    "plt.legend(['train', 'test'])\n",
    "plt.show()"
   ]
  },
  {
   "cell_type": "code",
   "execution_count": 55,
   "id": "03f7f6a9",
   "metadata": {},
   "outputs": [
    {
     "data": {
      "image/png": "[encoded data removed]",
      "text/plain": [
       "<Figure size 640x480 with 1 Axes>"
      ]
     },
     "metadata": {},
     "output_type": "display_data"
    }
   ],
   "source": [
    "# summarize history for loss\n",
    "plt.plot(history.history['loss'])\n",
    "plt.plot(history.history['val_loss'])\n",
    "plt.title('Model Loss')\n",
    "plt.ylabel('loss')\n",
    "plt.xlabel('epoch')\n",
    "plt.legend(['train', 'test'])\n",
    "plt.show()"
   ]
  },
  {
   "cell_type": "code",
   "execution_count": 56,
   "id": "04f6e065",
   "metadata": {},
   "outputs": [
    {
     "name": "stdout",
     "output_type": "stream",
     "text": [
      "313/313 [==============================] - 0s 673us/step - loss: 0.3169 - accuracy: 0.9116\n"
     ]
    },
    {
     "data": {
      "text/plain": [
       "[0.31694120168685913, 0.9115999937057495]"
      ]
     },
     "execution_count": 56,
     "metadata": {},
     "output_type": "execute_result"
    }
   ],
   "source": [
    "#Evaluate Model on test data\n",
    "model.evaluate(x_test, y_test)"
   ]
  },
  {
   "cell_type": "markdown",
   "id": "e35c4199",
   "metadata": {},
   "source": [
    "# Predictions"
   ]
  },
  {
   "cell_type": "code",
   "execution_count": 57,
   "id": "a484edde",
   "metadata": {},
   "outputs": [
    {
     "name": "stdout",
     "output_type": "stream",
     "text": [
      "313/313 [==============================] - 0s 670us/step\n"
     ]
    }
   ],
   "source": [
    "#predictions\n",
    "\n",
    "y_pred = model.predict(x_test)"
   ]
  },
  {
   "cell_type": "code",
   "execution_count": 58,
   "id": "a704e875",
   "metadata": {},
   "outputs": [
    {
     "data": {
      "text/plain": [
       "<matplotlib.image.AxesImage at 0x20fd8901c10>"
      ]
     },
     "execution_count": 58,
     "metadata": {},
     "output_type": "execute_result"
    },
    {
     "data": {
      "image/png": "[encoded data removed]",
      "text/plain": [
       "<Figure size 480x480 with 1 Axes>"
      ]
     },
     "metadata": {},
     "output_type": "display_data"
    }
   ],
   "source": [
    "#lets predict the first data on test set\n",
    "\n",
    "#reload the data that has not been flattened\n",
    "(x_train, y_train), (x_test, y_test) = keras.datasets.mnist.load_data() \n",
    "plt.matshow(x_test[0])"
   ]
  },
  {
   "cell_type": "code",
   "execution_count": 59,
   "id": "ea9ffbc1",
   "metadata": {},
   "outputs": [
    {
     "data": {
      "text/plain": [
       "array([1.06161868e-03, 2.14957690e-05, 1.34047423e-03, 3.83420312e-03,\n",
       "       7.54139037e-05, 9.38175654e-04, 1.11212075e-05, 9.86306846e-01,\n",
       "       4.35650261e-04, 5.97497821e-03], dtype=float32)"
      ]
     },
     "execution_count": 59,
     "metadata": {},
     "output_type": "execute_result"
    }
   ],
   "source": [
    "#print the predictions for the first data on test set\n",
    "#we get 10 probability values\n",
    "\n",
    "y_pred[0]"
   ]
  },
  {
   "cell_type": "code",
   "execution_count": 60,
   "id": "d6b974d4",
   "metadata": {},
   "outputs": [
    {
     "data": {
      "text/plain": [
       "7"
      ]
     },
     "execution_count": 60,
     "metadata": {},
     "output_type": "execute_result"
    }
   ],
   "source": [
    "#argmax function finds the argument that gives the maximum value from a target function.\n",
    "\n",
    "np.argmax(y_pred[0])"
   ]
  },
  {
   "cell_type": "markdown",
   "id": "51da5732",
   "metadata": {},
   "source": [
    "## Confusion Matrix"
   ]
  },
  {
   "cell_type": "code",
   "execution_count": 61,
   "id": "7d8733b4",
   "metadata": {},
   "outputs": [
    {
     "data": {
      "text/plain": [
       "<tf.Tensor: shape=(10, 10), dtype=int32, numpy=\n",
       "array([[ 958,    0,    5,    2,    0,    4,    8,    1,    2,    0],\n",
       "       [   0, 1106,    2,    4,    1,    1,    4,    1,   16,    0],\n",
       "       [  11,    2,  913,   15,   13,    2,   14,   19,   37,    6],\n",
       "       [   2,    1,   19,  914,    1,   27,    4,   16,   21,    5],\n",
       "       [   1,    5,    3,    0,  902,    1,   13,    2,    9,   46],\n",
       "       [  11,    2,    6,   48,    9,  750,   16,   10,   34,    6],\n",
       "       [  20,    3,    6,    0,   12,   15,  895,    2,    5,    0],\n",
       "       [   5,   14,   28,    3,   10,    0,    0,  937,    4,   27],\n",
       "       [   8,    7,    9,   26,   10,   26,   15,   15,  845,   13],\n",
       "       [  13,    9,    3,   10,   42,   10,    0,   22,    4,  896]])>"
      ]
     },
     "execution_count": 61,
     "metadata": {},
     "output_type": "execute_result"
    }
   ],
   "source": [
    "#confusion matrix\n",
    "\n",
    "y_pred_labels = [np.argmax(i) for i in y_pred]\n",
    "\n",
    "cm = tf.math.confusion_matrix(labels=y_test, predictions=y_pred_labels)\n",
    "cm"
   ]
  },
  {
   "cell_type": "code",
   "execution_count": 62,
   "id": "94a35466",
   "metadata": {},
   "outputs": [
    {
     "data": {
      "text/plain": [
       "Text(95.72222222222221, 0.5, 'Truth')"
      ]
     },
     "execution_count": 62,
     "metadata": {},
     "output_type": "execute_result"
    },
    {
     "data": {
      "image/png": "[encoded data removed]",
      "text/plain": [
       "<Figure size 1000x700 with 2 Axes>"
      ]
     },
     "metadata": {},
     "output_type": "display_data"
    }
   ],
   "source": [
    "#plot confusion matrix with seaborn heatmap\n",
    "\n",
    "plt.figure(figsize = (10,7))\n",
    "sn.heatmap(cm, annot=True, fmt='d')\n",
    "plt.xlabel('Predicted')\n",
    "plt.ylabel('Truth')"
   ]
  }
 ],
 "metadata": {
  "kernelspec": {
   "display_name": "Python 3 (ipykernel)",
   "language": "python",
   "name": "python3"
  },
  "language_info": {
   "codemirror_mode": {
    "name": "ipython",
    "version": 3
   },
   "file_extension": ".py",
   "mimetype": "text/x-python",
   "name": "python",
   "nbconvert_exporter": "python",
   "pygments_lexer": "ipython3",
   "version": "3.9.13"
  }
 },
 "nbformat": 4,
 "nbformat_minor": 5
}
