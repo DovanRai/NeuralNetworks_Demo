{
 "cells": [
  {
   "cell_type": "code",
   "execution_count": 23,
   "id": "6ac75f47",
   "metadata": {},
   "outputs": [],
   "source": [
    "#Import Libraries\n",
    "\n",
    "import numpy as np\n",
    "import pandas as pd\n",
    "import matplotlib.pyplot as plt\n",
    "import seaborn as sn\n",
    "\n",
    "import tensorflow as tf\n",
    "from tensorflow import keras\n"
   ]
  },
  {
   "cell_type": "markdown",
   "id": "e3a552c8",
   "metadata": {},
   "source": [
    "# Load MNIST Data"
   ]
  },
  {
   "cell_type": "markdown",
   "id": "ff201b26",
   "metadata": {},
   "source": [
    "The MNIST dataset consists of 70,000 28x28 images of handwritten digits extracted from two NIST databases.\n",
    "\n",
    "The MNIST dataset consists of 70,000 28x28 black-and-white images of handwritten digits extracted from two NIST databases. There are 60,000 images in the training dataset and 10,000 images in the validation dataset, one class per digit so a total of 10 classes, with 7,000 images (6,000 train images and 1,000 test images) per class. Half of the image were drawn by Census Bureau employees and the other half by high school students (this split is evenly distributed in the training and testing sets).\n"
   ]
  },
  {
   "cell_type": "code",
   "execution_count": 24,
   "id": "e62c9c5a",
   "metadata": {},
   "outputs": [],
   "source": [
    "#load dataset\n",
    "\n",
    "(x_train, y_train), (x_test, y_test) = keras.datasets.mnist.load_data() #train-test 0.75-0.25 split"
   ]
  },
  {
   "cell_type": "markdown",
   "id": "ee2ddd1b",
   "metadata": {},
   "source": [
    "# Explore Data"
   ]
  },
  {
   "cell_type": "code",
   "execution_count": 25,
   "id": "1e19b048",
   "metadata": {},
   "outputs": [
    {
     "name": "stdout",
     "output_type": "stream",
     "text": [
      "Train: X=(60000, 28, 28), y=(60000,)\n",
      "Test: X=(10000, 28, 28), y=(10000,)\n"
     ]
    }
   ],
   "source": [
    "# summarize loaded dataset\n",
    "print('Train: X=%s, y=%s' % (x_train.shape, y_train.shape))\n",
    "print('Test: X=%s, y=%s' % (x_test.shape, y_test.shape))"
   ]
  },
  {
   "cell_type": "code",
   "execution_count": 26,
   "id": "a08c3bde",
   "metadata": {},
   "outputs": [
    {
     "name": "stdout",
     "output_type": "stream",
     "text": [
      "5\n"
     ]
    },
    {
     "data": {
      "image/png": "[encoded data removed]",
      "text/plain": [
       "<Figure size 480x480 with 1 Axes>"
      ]
     },
     "metadata": {},
     "output_type": "display_data"
    }
   ],
   "source": [
    "#plot image \n",
    "\n",
    "plt.matshow(x_train[0])\n",
    "\n",
    "#print y_train\n",
    "\n",
    "print(y_train[0])"
   ]
  },
  {
   "cell_type": "code",
   "execution_count": 27,
   "id": "bfab5696",
   "metadata": {},
   "outputs": [
    {
     "name": "stdout",
     "output_type": "stream",
     "text": [
      "(28, 28)\n",
      "[[  0   0   0   0   0   0   0   0   0   0   0   0   0   0   0   0   0   0\n",
      "    0   0   0   0   0   0   0   0   0   0]\n",
      " [  0   0   0   0   0   0   0   0   0   0   0   0   0   0   0   0   0   0\n",
      "    0   0   0   0   0   0   0   0   0   0]\n",
      " [  0   0   0   0   0   0   0   0   0   0   0   0   0   0   0   0   0   0\n",
      "    0   0   0   0   0   0   0   0   0   0]\n",
      " [  0   0   0   0   0   0   0   0   0   0   0   0   0   0   0   0   0   0\n",
      "    0   0   0   0   0   0   0   0   0   0]\n",
      " [  0   0   0   0   0   0   0   0   0   0   0   0   0   0   0   0   0   0\n",
      "    0   0   0   0   0   0   0   0   0   0]\n",
      " [  0   0   0   0   0   0   0   0   0   0   0   0   3  18  18  18 126 136\n",
      "  175  26 166 255 247 127   0   0   0   0]\n",
      " [  0   0   0   0   0   0   0   0  30  36  94 154 170 253 253 253 253 253\n",
      "  225 172 253 242 195  64   0   0   0   0]\n",
      " [  0   0   0   0   0   0   0  49 238 253 253 253 253 253 253 253 253 251\n",
      "   93  82  82  56  39   0   0   0   0   0]\n",
      " [  0   0   0   0   0   0   0  18 219 253 253 253 253 253 198 182 247 241\n",
      "    0   0   0   0   0   0   0   0   0   0]\n",
      " [  0   0   0   0   0   0   0   0  80 156 107 253 253 205  11   0  43 154\n",
      "    0   0   0   0   0   0   0   0   0   0]\n",
      " [  0   0   0   0   0   0   0   0   0  14   1 154 253  90   0   0   0   0\n",
      "    0   0   0   0   0   0   0   0   0   0]\n",
      " [  0   0   0   0   0   0   0   0   0   0   0 139 253 190   2   0   0   0\n",
      "    0   0   0   0   0   0   0   0   0   0]\n",
      " [  0   0   0   0   0   0   0   0   0   0   0  11 190 253  70   0   0   0\n",
      "    0   0   0   0   0   0   0   0   0   0]\n",
      " [  0   0   0   0   0   0   0   0   0   0   0   0  35 241 225 160 108   1\n",
      "    0   0   0   0   0   0   0   0   0   0]\n",
      " [  0   0   0   0   0   0   0   0   0   0   0   0   0  81 240 253 253 119\n",
      "   25   0   0   0   0   0   0   0   0   0]\n",
      " [  0   0   0   0   0   0   0   0   0   0   0   0   0   0  45 186 253 253\n",
      "  150  27   0   0   0   0   0   0   0   0]\n",
      " [  0   0   0   0   0   0   0   0   0   0   0   0   0   0   0  16  93 252\n",
      "  253 187   0   0   0   0   0   0   0   0]\n",
      " [  0   0   0   0   0   0   0   0   0   0   0   0   0   0   0   0   0 249\n",
      "  253 249  64   0   0   0   0   0   0   0]\n",
      " [  0   0   0   0   0   0   0   0   0   0   0   0   0   0  46 130 183 253\n",
      "  253 207   2   0   0   0   0   0   0   0]\n",
      " [  0   0   0   0   0   0   0   0   0   0   0   0  39 148 229 253 253 253\n",
      "  250 182   0   0   0   0   0   0   0   0]\n",
      " [  0   0   0   0   0   0   0   0   0   0  24 114 221 253 253 253 253 201\n",
      "   78   0   0   0   0   0   0   0   0   0]\n",
      " [  0   0   0   0   0   0   0   0  23  66 213 253 253 253 253 198  81   2\n",
      "    0   0   0   0   0   0   0   0   0   0]\n",
      " [  0   0   0   0   0   0  18 171 219 253 253 253 253 195  80   9   0   0\n",
      "    0   0   0   0   0   0   0   0   0   0]\n",
      " [  0   0   0   0  55 172 226 253 253 253 253 244 133  11   0   0   0   0\n",
      "    0   0   0   0   0   0   0   0   0   0]\n",
      " [  0   0   0   0 136 253 253 253 212 135 132  16   0   0   0   0   0   0\n",
      "    0   0   0   0   0   0   0   0   0   0]\n",
      " [  0   0   0   0   0   0   0   0   0   0   0   0   0   0   0   0   0   0\n",
      "    0   0   0   0   0   0   0   0   0   0]\n",
      " [  0   0   0   0   0   0   0   0   0   0   0   0   0   0   0   0   0   0\n",
      "    0   0   0   0   0   0   0   0   0   0]\n",
      " [  0   0   0   0   0   0   0   0   0   0   0   0   0   0   0   0   0   0\n",
      "    0   0   0   0   0   0   0   0   0   0]]\n"
     ]
    }
   ],
   "source": [
    "#print x_train\n",
    "# 28X28 grid\n",
    "\n",
    "print(x_train[0].shape)\n",
    "print(x_train[0])"
   ]
  },
  {
   "cell_type": "code",
   "execution_count": 28,
   "id": "ea8e1cb5",
   "metadata": {},
   "outputs": [
    {
     "data": {
      "image/png": "[encoded data removed]",
      "text/plain": [
       "<Figure size 640x480 with 9 Axes>"
      ]
     },
     "metadata": {},
     "output_type": "display_data"
    }
   ],
   "source": [
    "# plot first few images\n",
    "\n",
    "for i in range(9):\n",
    "    \n",
    "    # define subplot with 3 rows and 3 columns, index from 1 to 9\n",
    "    plt.subplot(3,3,i+1)\n",
    "    \n",
    "    # plot pixel data\n",
    "    plt.imshow(x_train[i])\n",
    "    \n",
    "# show the figure\n",
    "plt.show()"
   ]
  },
  {
   "cell_type": "markdown",
   "id": "555b59ab",
   "metadata": {},
   "source": [
    "# Prepare Data"
   ]
  },
  {
   "cell_type": "markdown",
   "id": "44ca183d",
   "metadata": {},
   "source": [
    "### Normalization\n",
    "Normalization is the process of scaling and centering the features of a dataset. \n",
    "The goal of normalization is to bring all features to a similar scale so that they contribute equally to the learning process and no single feature dominates due to its larger magnitude. "
   ]
  },
  {
   "cell_type": "code",
   "execution_count": 29,
   "id": "87cdbc0b",
   "metadata": {},
   "outputs": [
    {
     "name": "stdout",
     "output_type": "stream",
     "text": [
      "[[0.         0.         0.         0.         0.         0.\n",
      "  0.         0.         0.         0.         0.         0.\n",
      "  0.         0.         0.         0.         0.         0.\n",
      "  0.         0.         0.         0.         0.         0.\n",
      "  0.         0.         0.         0.        ]\n",
      " [0.         0.         0.         0.         0.         0.\n",
      "  0.         0.         0.         0.         0.         0.\n",
      "  0.         0.         0.         0.         0.         0.\n",
      "  0.         0.         0.         0.         0.         0.\n",
      "  0.         0.         0.         0.        ]\n",
      " [0.         0.         0.         0.         0.         0.\n",
      "  0.         0.         0.         0.         0.         0.\n",
      "  0.         0.         0.         0.         0.         0.\n",
      "  0.         0.         0.         0.         0.         0.\n",
      "  0.         0.         0.         0.        ]\n",
      " [0.         0.         0.         0.         0.         0.\n",
      "  0.         0.         0.         0.         0.         0.\n",
      "  0.         0.         0.         0.         0.         0.\n",
      "  0.         0.         0.         0.         0.         0.\n",
      "  0.         0.         0.         0.        ]\n",
      " [0.         0.         0.         0.         0.         0.\n",
      "  0.         0.         0.         0.         0.         0.\n",
      "  0.         0.         0.         0.         0.         0.\n",
      "  0.         0.         0.         0.         0.         0.\n",
      "  0.         0.         0.         0.        ]\n",
      " [0.         0.         0.         0.         0.         0.\n",
      "  0.         0.         0.         0.         0.         0.\n",
      "  0.01176471 0.07058824 0.07058824 0.07058824 0.49411765 0.53333333\n",
      "  0.68627451 0.10196078 0.65098039 1.         0.96862745 0.49803922\n",
      "  0.         0.         0.         0.        ]\n",
      " [0.         0.         0.         0.         0.         0.\n",
      "  0.         0.         0.11764706 0.14117647 0.36862745 0.60392157\n",
      "  0.66666667 0.99215686 0.99215686 0.99215686 0.99215686 0.99215686\n",
      "  0.88235294 0.6745098  0.99215686 0.94901961 0.76470588 0.25098039\n",
      "  0.         0.         0.         0.        ]\n",
      " [0.         0.         0.         0.         0.         0.\n",
      "  0.         0.19215686 0.93333333 0.99215686 0.99215686 0.99215686\n",
      "  0.99215686 0.99215686 0.99215686 0.99215686 0.99215686 0.98431373\n",
      "  0.36470588 0.32156863 0.32156863 0.21960784 0.15294118 0.\n",
      "  0.         0.         0.         0.        ]\n",
      " [0.         0.         0.         0.         0.         0.\n",
      "  0.         0.07058824 0.85882353 0.99215686 0.99215686 0.99215686\n",
      "  0.99215686 0.99215686 0.77647059 0.71372549 0.96862745 0.94509804\n",
      "  0.         0.         0.         0.         0.         0.\n",
      "  0.         0.         0.         0.        ]\n",
      " [0.         0.         0.         0.         0.         0.\n",
      "  0.         0.         0.31372549 0.61176471 0.41960784 0.99215686\n",
      "  0.99215686 0.80392157 0.04313725 0.         0.16862745 0.60392157\n",
      "  0.         0.         0.         0.         0.         0.\n",
      "  0.         0.         0.         0.        ]\n",
      " [0.         0.         0.         0.         0.         0.\n",
      "  0.         0.         0.         0.05490196 0.00392157 0.60392157\n",
      "  0.99215686 0.35294118 0.         0.         0.         0.\n",
      "  0.         0.         0.         0.         0.         0.\n",
      "  0.         0.         0.         0.        ]\n",
      " [0.         0.         0.         0.         0.         0.\n",
      "  0.         0.         0.         0.         0.         0.54509804\n",
      "  0.99215686 0.74509804 0.00784314 0.         0.         0.\n",
      "  0.         0.         0.         0.         0.         0.\n",
      "  0.         0.         0.         0.        ]\n",
      " [0.         0.         0.         0.         0.         0.\n",
      "  0.         0.         0.         0.         0.         0.04313725\n",
      "  0.74509804 0.99215686 0.2745098  0.         0.         0.\n",
      "  0.         0.         0.         0.         0.         0.\n",
      "  0.         0.         0.         0.        ]\n",
      " [0.         0.         0.         0.         0.         0.\n",
      "  0.         0.         0.         0.         0.         0.\n",
      "  0.1372549  0.94509804 0.88235294 0.62745098 0.42352941 0.00392157\n",
      "  0.         0.         0.         0.         0.         0.\n",
      "  0.         0.         0.         0.        ]\n",
      " [0.         0.         0.         0.         0.         0.\n",
      "  0.         0.         0.         0.         0.         0.\n",
      "  0.         0.31764706 0.94117647 0.99215686 0.99215686 0.46666667\n",
      "  0.09803922 0.         0.         0.         0.         0.\n",
      "  0.         0.         0.         0.        ]\n",
      " [0.         0.         0.         0.         0.         0.\n",
      "  0.         0.         0.         0.         0.         0.\n",
      "  0.         0.         0.17647059 0.72941176 0.99215686 0.99215686\n",
      "  0.58823529 0.10588235 0.         0.         0.         0.\n",
      "  0.         0.         0.         0.        ]\n",
      " [0.         0.         0.         0.         0.         0.\n",
      "  0.         0.         0.         0.         0.         0.\n",
      "  0.         0.         0.         0.0627451  0.36470588 0.98823529\n",
      "  0.99215686 0.73333333 0.         0.         0.         0.\n",
      "  0.         0.         0.         0.        ]\n",
      " [0.         0.         0.         0.         0.         0.\n",
      "  0.         0.         0.         0.         0.         0.\n",
      "  0.         0.         0.         0.         0.         0.97647059\n",
      "  0.99215686 0.97647059 0.25098039 0.         0.         0.\n",
      "  0.         0.         0.         0.        ]\n",
      " [0.         0.         0.         0.         0.         0.\n",
      "  0.         0.         0.         0.         0.         0.\n",
      "  0.         0.         0.18039216 0.50980392 0.71764706 0.99215686\n",
      "  0.99215686 0.81176471 0.00784314 0.         0.         0.\n",
      "  0.         0.         0.         0.        ]\n",
      " [0.         0.         0.         0.         0.         0.\n",
      "  0.         0.         0.         0.         0.         0.\n",
      "  0.15294118 0.58039216 0.89803922 0.99215686 0.99215686 0.99215686\n",
      "  0.98039216 0.71372549 0.         0.         0.         0.\n",
      "  0.         0.         0.         0.        ]\n",
      " [0.         0.         0.         0.         0.         0.\n",
      "  0.         0.         0.         0.         0.09411765 0.44705882\n",
      "  0.86666667 0.99215686 0.99215686 0.99215686 0.99215686 0.78823529\n",
      "  0.30588235 0.         0.         0.         0.         0.\n",
      "  0.         0.         0.         0.        ]\n",
      " [0.         0.         0.         0.         0.         0.\n",
      "  0.         0.         0.09019608 0.25882353 0.83529412 0.99215686\n",
      "  0.99215686 0.99215686 0.99215686 0.77647059 0.31764706 0.00784314\n",
      "  0.         0.         0.         0.         0.         0.\n",
      "  0.         0.         0.         0.        ]\n",
      " [0.         0.         0.         0.         0.         0.\n",
      "  0.07058824 0.67058824 0.85882353 0.99215686 0.99215686 0.99215686\n",
      "  0.99215686 0.76470588 0.31372549 0.03529412 0.         0.\n",
      "  0.         0.         0.         0.         0.         0.\n",
      "  0.         0.         0.         0.        ]\n",
      " [0.         0.         0.         0.         0.21568627 0.6745098\n",
      "  0.88627451 0.99215686 0.99215686 0.99215686 0.99215686 0.95686275\n",
      "  0.52156863 0.04313725 0.         0.         0.         0.\n",
      "  0.         0.         0.         0.         0.         0.\n",
      "  0.         0.         0.         0.        ]\n",
      " [0.         0.         0.         0.         0.53333333 0.99215686\n",
      "  0.99215686 0.99215686 0.83137255 0.52941176 0.51764706 0.0627451\n",
      "  0.         0.         0.         0.         0.         0.\n",
      "  0.         0.         0.         0.         0.         0.\n",
      "  0.         0.         0.         0.        ]\n",
      " [0.         0.         0.         0.         0.         0.\n",
      "  0.         0.         0.         0.         0.         0.\n",
      "  0.         0.         0.         0.         0.         0.\n",
      "  0.         0.         0.         0.         0.         0.\n",
      "  0.         0.         0.         0.        ]\n",
      " [0.         0.         0.         0.         0.         0.\n",
      "  0.         0.         0.         0.         0.         0.\n",
      "  0.         0.         0.         0.         0.         0.\n",
      "  0.         0.         0.         0.         0.         0.\n",
      "  0.         0.         0.         0.        ]\n",
      " [0.         0.         0.         0.         0.         0.\n",
      "  0.         0.         0.         0.         0.         0.\n",
      "  0.         0.         0.         0.         0.         0.\n",
      "  0.         0.         0.         0.         0.         0.\n",
      "  0.         0.         0.         0.        ]]\n"
     ]
    }
   ],
   "source": [
    "#normalize data by scaling\n",
    "#we can scale data range (0-255) scaled to 0-1, by dividing by 255\n",
    "\n",
    "x_train = x_train / 255\n",
    "x_test = x_test / 255\n",
    "\n",
    "print(x_train[0])"
   ]
  },
  {
   "cell_type": "markdown",
   "id": "71366aa9",
   "metadata": {},
   "source": [
    "# Flattening"
   ]
  },
  {
   "cell_type": "markdown",
   "id": "18168f37",
   "metadata": {},
   "source": [
    "Flattening is the process of converting multi-dimensional data, such as images or tensors, into a one-dimensional vector. \n",
    "\n",
    "This is often a necessary step when passing data to a neural network's input layer, which typically expects one-dimensional input.\n",
    "\n",
    "We are flattenning 28*28 2D input data into one dimensional data with length 784"
   ]
  },
  {
   "cell_type": "code",
   "execution_count": 30,
   "id": "5bdc922c",
   "metadata": {},
   "outputs": [
    {
     "name": "stdout",
     "output_type": "stream",
     "text": [
      "before flattening, shape of x_train is  (60000, 28, 28)\n",
      "before flattening, shape of each x_train data is  (28, 28)\n",
      "after flattening, shape of x_train is  (60000, 784)\n",
      "after flattening, shape of each x_train data is  (784,)\n"
     ]
    }
   ],
   "source": [
    "#flatten 28x28 grids into longitudanal input\n",
    "\n",
    "print(\"before flattening, shape of x_train is \", x_train.shape)\n",
    "print(\"before flattening, shape of each x_train data is \", x_train[0].shape)\n",
    "\n",
    "# image_vector_size = 28*28= 784\n",
    "image_vector_size = 28*28\n",
    "\n",
    "x_train = x_train.reshape(len(x_train), image_vector_size)\n",
    "x_test = x_test.reshape(len(x_test), image_vector_size)\n",
    "\n",
    "print(\"after flattening, shape of x_train is \", x_train.shape)\n",
    "print(\"after flattening, shape of each x_train data is \", x_train[0].shape)"
   ]
  },
  {
   "cell_type": "markdown",
   "id": "121c6329",
   "metadata": {},
   "source": [
    "# Define Neural Network Model Architecture"
   ]
  },
  {
   "cell_type": "markdown",
   "id": "0b5ef571",
   "metadata": {},
   "source": [
    "Sequential groups a linear stack of layers into a tf.keras.Model\n",
    "\n",
    "Dense layers are \"fully connected\" layers\n",
    "\n",
    "Sequential Documentation: https://keras.io/models/sequential/"
   ]
  },
  {
   "cell_type": "code",
   "execution_count": 31,
   "id": "5727fc91",
   "metadata": {},
   "outputs": [
    {
     "name": "stdout",
     "output_type": "stream",
     "text": [
      "Model: \"sequential_1\"\n",
      "_________________________________________________________________\n",
      " Layer (type)                Output Shape              Param #   \n",
      "=================================================================\n",
      " dense_2 (Dense)             (None, 32)                25120     \n",
      "                                                                 \n",
      " dense_3 (Dense)             (None, 10)                330       \n",
      "                                                                 \n",
      "=================================================================\n",
      "Total params: 25,450\n",
      "Trainable params: 25,450\n",
      "Non-trainable params: 0\n",
      "_________________________________________________________________\n"
     ]
    }
   ],
   "source": [
    "# Define Neural Network model architecture\n",
    "\n",
    "#define dense sequential neural network with 784 inputs, 10 outputs \n",
    "# one hidden layer with 32 neurons and sigmoid activation function\n",
    "\n",
    "#input size\n",
    "image_size = 784 # 28*28\n",
    "\n",
    "#output size\n",
    "num_classes = 10 # ten unique digits\n",
    "\n",
    "#define model type as Sequential. Sequential groups a linear stack of layers\n",
    "model = keras.Sequential()\n",
    "\n",
    "#define hidden layer: neurons= 32, activation= sigmoid\n",
    "model.add(keras.layers.Dense(units=32, activation='sigmoid', input_shape=(image_size,))) \n",
    "\n",
    "#define output layer: neurons= 10, activation= softmax\n",
    "model.add(keras.layers.Dense(units=num_classes, activation='softmax')) \n",
    "\n",
    "\n",
    "model.summary() #print the model architecture"
   ]
  },
  {
   "cell_type": "markdown",
   "id": "f0e98033",
   "metadata": {},
   "source": [
    "The resulting architecture has 25,450 tunable parameters. \n",
    "From the input layer to the hidden layer there are 784*32 = 25,088 weights. \n",
    "\n",
    "The hidden layer has 32 nodes so there are 32 biases. \n",
    "This brings us to 25,088 + 32 = 25,120 parameters.\n",
    "\n",
    "From the hidden layer to the output layer there are 32*10 = 320 weights.\n",
    "Each of the ten nodes adds a single bias bringing us to 25,120 + 320 + 10 = 25,450 total parameters."
   ]
  },
  {
   "cell_type": "markdown",
   "id": "3a1a88bb",
   "metadata": {},
   "source": [
    "## Compile Model"
   ]
  },
  {
   "cell_type": "markdown",
   "id": "a45c16bb",
   "metadata": {},
   "source": [
    "After creating a neural network architecture, the next step is to compile the model before training it on data. \n",
    "\n",
    "The compilation step involves configuring the model with specific settings that are necessary for training. \n",
    "\n",
    "Optimizer: The optimization algorithm used to update the model parameters during training. Common optimizers include SGD (Stochastic Gradient Descent), Adam, RMSprop.\n",
    "\n",
    "Loss function: The function used to measure the difference between the model's prediction and the actual target.\n",
    "The choice of the loss function depends on the nature of the task, such as mean squared error for regression or categorical cross-entropy for classification.\n",
    "\n",
    "Metrics: These are additional metrics to monitor during training and evaluation. "
   ]
  },
  {
   "cell_type": "code",
   "execution_count": 36,
   "id": "303996e3",
   "metadata": {},
   "outputs": [],
   "source": [
    "#compile the neural network model\n",
    "\n",
    "#Sparse_categorial_entropy is used as there are multiple labels provided as integers.\n",
    "\n",
    "model.compile(optimizer=\"sgd\", \n",
    "              loss='sparse_categorical_crossentropy', \n",
    "              metrics=['accuracy'])\n"
   ]
  },
  {
   "cell_type": "markdown",
   "id": "929e8370",
   "metadata": {},
   "source": [
    "## Train the model"
   ]
  },
  {
   "cell_type": "code",
   "execution_count": 37,
   "id": "f42b8a6b",
   "metadata": {},
   "outputs": [
    {
     "name": "stdout",
     "output_type": "stream",
     "text": [
      "Epoch 1/50\n",
      "400/400 [==============================] - 1s 2ms/step - loss: 2.1081 - accuracy: 0.3926 - val_loss: 1.9215 - val_accuracy: 0.5936\n",
      "Epoch 2/50\n",
      "400/400 [==============================] - 1s 3ms/step - loss: 1.7718 - accuracy: 0.6281 - val_loss: 1.6133 - val_accuracy: 0.6774\n",
      "Epoch 3/50\n",
      "400/400 [==============================] - 1s 3ms/step - loss: 1.5030 - accuracy: 0.6838 - val_loss: 1.3709 - val_accuracy: 0.7272\n",
      "Epoch 4/50\n",
      "400/400 [==============================] - 1s 2ms/step - loss: 1.2957 - accuracy: 0.7249 - val_loss: 1.1860 - val_accuracy: 0.7718\n",
      "Epoch 5/50\n",
      "400/400 [==============================] - 1s 2ms/step - loss: 1.1377 - accuracy: 0.7630 - val_loss: 1.0446 - val_accuracy: 0.8007\n",
      "Epoch 6/50\n",
      "400/400 [==============================] - 1s 2ms/step - loss: 1.0157 - accuracy: 0.7914 - val_loss: 0.9347 - val_accuracy: 0.8230\n",
      "Epoch 7/50\n",
      "400/400 [==============================] - 1s 3ms/step - loss: 0.9195 - accuracy: 0.8118 - val_loss: 0.8471 - val_accuracy: 0.8403\n",
      "Epoch 8/50\n",
      "400/400 [==============================] - 1s 3ms/step - loss: 0.8422 - accuracy: 0.8262 - val_loss: 0.7768 - val_accuracy: 0.8523\n",
      "Epoch 9/50\n",
      "400/400 [==============================] - 1s 2ms/step - loss: 0.7791 - accuracy: 0.8385 - val_loss: 0.7190 - val_accuracy: 0.8582\n",
      "Epoch 10/50\n",
      "400/400 [==============================] - 1s 2ms/step - loss: 0.7268 - accuracy: 0.8451 - val_loss: 0.6712 - val_accuracy: 0.8646\n",
      "Epoch 11/50\n",
      "400/400 [==============================] - 1s 2ms/step - loss: 0.6830 - accuracy: 0.8528 - val_loss: 0.6312 - val_accuracy: 0.8685\n",
      "Epoch 12/50\n",
      "400/400 [==============================] - 1s 2ms/step - loss: 0.6460 - accuracy: 0.8586 - val_loss: 0.5972 - val_accuracy: 0.8733\n",
      "Epoch 13/50\n",
      "400/400 [==============================] - 1s 2ms/step - loss: 0.6144 - accuracy: 0.8635 - val_loss: 0.5683 - val_accuracy: 0.8780\n",
      "Epoch 14/50\n",
      "400/400 [==============================] - 1s 2ms/step - loss: 0.5871 - accuracy: 0.8679 - val_loss: 0.5432 - val_accuracy: 0.8813\n",
      "Epoch 15/50\n",
      "400/400 [==============================] - 1s 2ms/step - loss: 0.5633 - accuracy: 0.8714 - val_loss: 0.5213 - val_accuracy: 0.8836\n",
      "Epoch 16/50\n",
      "400/400 [==============================] - 1s 2ms/step - loss: 0.5426 - accuracy: 0.8738 - val_loss: 0.5024 - val_accuracy: 0.8856\n",
      "Epoch 17/50\n",
      "400/400 [==============================] - 1s 2ms/step - loss: 0.5243 - accuracy: 0.8765 - val_loss: 0.4855 - val_accuracy: 0.8888\n",
      "Epoch 18/50\n",
      "400/400 [==============================] - 1s 2ms/step - loss: 0.5080 - accuracy: 0.8788 - val_loss: 0.4707 - val_accuracy: 0.8897\n",
      "Epoch 19/50\n",
      "400/400 [==============================] - 1s 2ms/step - loss: 0.4935 - accuracy: 0.8808 - val_loss: 0.4575 - val_accuracy: 0.8909\n",
      "Epoch 20/50\n",
      "400/400 [==============================] - 1s 2ms/step - loss: 0.4805 - accuracy: 0.8828 - val_loss: 0.4456 - val_accuracy: 0.8920\n",
      "Epoch 21/50\n",
      "400/400 [==============================] - 1s 2ms/step - loss: 0.4687 - accuracy: 0.8844 - val_loss: 0.4349 - val_accuracy: 0.8946\n",
      "Epoch 22/50\n",
      "400/400 [==============================] - 1s 2ms/step - loss: 0.4581 - accuracy: 0.8859 - val_loss: 0.4250 - val_accuracy: 0.8957\n",
      "Epoch 23/50\n",
      "400/400 [==============================] - 1s 1ms/step - loss: 0.4484 - accuracy: 0.8870 - val_loss: 0.4163 - val_accuracy: 0.8959\n",
      "Epoch 24/50\n",
      "400/400 [==============================] - 1s 2ms/step - loss: 0.4395 - accuracy: 0.8885 - val_loss: 0.4082 - val_accuracy: 0.8971\n",
      "Epoch 25/50\n",
      "400/400 [==============================] - 1s 2ms/step - loss: 0.4314 - accuracy: 0.8902 - val_loss: 0.4007 - val_accuracy: 0.8978\n",
      "Epoch 26/50\n",
      "400/400 [==============================] - 1s 2ms/step - loss: 0.4239 - accuracy: 0.8908 - val_loss: 0.3939 - val_accuracy: 0.8993\n",
      "Epoch 27/50\n",
      "400/400 [==============================] - 1s 2ms/step - loss: 0.4169 - accuracy: 0.8920 - val_loss: 0.3876 - val_accuracy: 0.9003\n",
      "Epoch 28/50\n",
      "400/400 [==============================] - 1s 2ms/step - loss: 0.4105 - accuracy: 0.8934 - val_loss: 0.3818 - val_accuracy: 0.9010\n",
      "Epoch 29/50\n",
      "400/400 [==============================] - 1s 2ms/step - loss: 0.4045 - accuracy: 0.8941 - val_loss: 0.3763 - val_accuracy: 0.9024\n",
      "Epoch 30/50\n",
      "400/400 [==============================] - 1s 2ms/step - loss: 0.3989 - accuracy: 0.8952 - val_loss: 0.3712 - val_accuracy: 0.9033\n",
      "Epoch 31/50\n",
      "400/400 [==============================] - 1s 2ms/step - loss: 0.3936 - accuracy: 0.8961 - val_loss: 0.3666 - val_accuracy: 0.9043\n",
      "Epoch 32/50\n",
      "400/400 [==============================] - 1s 2ms/step - loss: 0.3887 - accuracy: 0.8971 - val_loss: 0.3621 - val_accuracy: 0.9050\n",
      "Epoch 33/50\n",
      "400/400 [==============================] - 1s 2ms/step - loss: 0.3841 - accuracy: 0.8981 - val_loss: 0.3580 - val_accuracy: 0.9056\n",
      "Epoch 34/50\n",
      "400/400 [==============================] - 1s 2ms/step - loss: 0.3797 - accuracy: 0.8988 - val_loss: 0.3539 - val_accuracy: 0.9062\n",
      "Epoch 35/50\n",
      "400/400 [==============================] - 1s 2ms/step - loss: 0.3756 - accuracy: 0.8996 - val_loss: 0.3502 - val_accuracy: 0.9068\n",
      "Epoch 36/50\n",
      "400/400 [==============================] - 1s 2ms/step - loss: 0.3716 - accuracy: 0.9000 - val_loss: 0.3466 - val_accuracy: 0.9073\n",
      "Epoch 37/50\n",
      "400/400 [==============================] - 1s 2ms/step - loss: 0.3678 - accuracy: 0.9009 - val_loss: 0.3433 - val_accuracy: 0.9070\n",
      "Epoch 38/50\n",
      "400/400 [==============================] - 1s 2ms/step - loss: 0.3644 - accuracy: 0.9013 - val_loss: 0.3401 - val_accuracy: 0.9079\n",
      "Epoch 39/50\n",
      "400/400 [==============================] - 1s 3ms/step - loss: 0.3609 - accuracy: 0.9022 - val_loss: 0.3371 - val_accuracy: 0.9087\n",
      "Epoch 40/50\n",
      "400/400 [==============================] - 1s 2ms/step - loss: 0.3577 - accuracy: 0.9032 - val_loss: 0.3343 - val_accuracy: 0.9077\n",
      "Epoch 41/50\n",
      "400/400 [==============================] - 1s 3ms/step - loss: 0.3546 - accuracy: 0.9038 - val_loss: 0.3315 - val_accuracy: 0.9081\n",
      "Epoch 42/50\n",
      "400/400 [==============================] - 1s 2ms/step - loss: 0.3517 - accuracy: 0.9040 - val_loss: 0.3289 - val_accuracy: 0.9088\n",
      "Epoch 43/50\n",
      "400/400 [==============================] - 1s 2ms/step - loss: 0.3488 - accuracy: 0.9050 - val_loss: 0.3263 - val_accuracy: 0.9093\n",
      "Epoch 44/50\n",
      "400/400 [==============================] - 1s 2ms/step - loss: 0.3461 - accuracy: 0.9051 - val_loss: 0.3238 - val_accuracy: 0.9094\n",
      "Epoch 45/50\n",
      "400/400 [==============================] - 1s 2ms/step - loss: 0.3434 - accuracy: 0.9060 - val_loss: 0.3216 - val_accuracy: 0.9100\n",
      "Epoch 46/50\n",
      "400/400 [==============================] - 1s 2ms/step - loss: 0.3409 - accuracy: 0.9064 - val_loss: 0.3192 - val_accuracy: 0.9105\n",
      "Epoch 47/50\n",
      "400/400 [==============================] - 1s 2ms/step - loss: 0.3385 - accuracy: 0.9069 - val_loss: 0.3171 - val_accuracy: 0.9109\n",
      "Epoch 48/50\n",
      "400/400 [==============================] - 1s 2ms/step - loss: 0.3361 - accuracy: 0.9077 - val_loss: 0.3150 - val_accuracy: 0.9115\n",
      "Epoch 49/50\n",
      "400/400 [==============================] - 1s 2ms/step - loss: 0.3338 - accuracy: 0.9081 - val_loss: 0.3132 - val_accuracy: 0.9115\n",
      "Epoch 50/50\n",
      "400/400 [==============================] - 1s 2ms/step - loss: 0.3317 - accuracy: 0.9088 - val_loss: 0.3111 - val_accuracy: 0.9127\n"
     ]
    }
   ],
   "source": [
    "#track history of training the model\n",
    "\n",
    "#epochs=50 means the model will iterate over the entire training dataset 50 times.\n",
    "\n",
    "history= model.fit(x_train, y_train, batch_size=120, epochs=50, validation_split=0.2)\n"
   ]
  },
  {
   "cell_type": "code",
   "execution_count": 12,
   "id": "22571cfb",
   "metadata": {},
   "outputs": [
    {
     "data": {
      "image/png": "[encoded data removed]",
      "text/plain": [
       "<Figure size 640x480 with 1 Axes>"
      ]
     },
     "metadata": {},
     "output_type": "display_data"
    }
   ],
   "source": [
    "# summarize history for accuracy\n",
    "plt.plot(history.history['accuracy'])\n",
    "plt.plot(history.history['val_accuracy'])\n",
    "plt.title('model accuracy')\n",
    "plt.ylabel('accuracy')\n",
    "plt.xlabel('epoch')\n",
    "plt.legend(['train', 'test'])\n",
    "plt.show()"
   ]
  },
  {
   "cell_type": "markdown",
   "id": "c1843076",
   "metadata": {},
   "source": [
    "## Model Evaluation"
   ]
  },
  {
   "cell_type": "code",
   "execution_count": 38,
   "id": "03f7f6a9",
   "metadata": {},
   "outputs": [
    {
     "data": {
      "image/png": "[encoded data removed]",
      "text/plain": [
       "<Figure size 640x480 with 1 Axes>"
      ]
     },
     "metadata": {},
     "output_type": "display_data"
    }
   ],
   "source": [
    "# summarize history for loss\n",
    "plt.plot(history.history['loss'])\n",
    "plt.plot(history.history['val_loss'])\n",
    "plt.title('model loss')\n",
    "plt.ylabel('loss')\n",
    "plt.xlabel('epoch')\n",
    "plt.legend(['train', 'test'])\n",
    "plt.show()"
   ]
  },
  {
   "cell_type": "code",
   "execution_count": 39,
   "id": "04f6e065",
   "metadata": {},
   "outputs": [
    {
     "name": "stdout",
     "output_type": "stream",
     "text": [
      "313/313 [==============================] - 0s 1ms/step - loss: 0.3157 - accuracy: 0.9151\n"
     ]
    },
    {
     "data": {
      "text/plain": [
       "[0.3156723976135254, 0.9150999784469604]"
      ]
     },
     "execution_count": 39,
     "metadata": {},
     "output_type": "execute_result"
    }
   ],
   "source": [
    "#Evaluate Model on test data\n",
    "model.evaluate(x_test, y_test)"
   ]
  },
  {
   "cell_type": "markdown",
   "id": "e35c4199",
   "metadata": {},
   "source": [
    "# Predictions"
   ]
  },
  {
   "cell_type": "code",
   "execution_count": 40,
   "id": "a484edde",
   "metadata": {},
   "outputs": [
    {
     "name": "stdout",
     "output_type": "stream",
     "text": [
      "313/313 [==============================] - 0s 973us/step\n"
     ]
    }
   ],
   "source": [
    "#predictions\n",
    "\n",
    "y_pred = model.predict(x_test)"
   ]
  },
  {
   "cell_type": "code",
   "execution_count": 41,
   "id": "a704e875",
   "metadata": {},
   "outputs": [
    {
     "data": {
      "text/plain": [
       "<matplotlib.image.AxesImage at 0x23845dfb940>"
      ]
     },
     "execution_count": 41,
     "metadata": {},
     "output_type": "execute_result"
    },
    {
     "data": {
      "image/png": "[encoded data removed]",
      "text/plain": [
       "<Figure size 480x480 with 1 Axes>"
      ]
     },
     "metadata": {},
     "output_type": "display_data"
    }
   ],
   "source": [
    "#lets predict the first data on test set\n",
    "\n",
    "#reload the data that has not been flattened\n",
    "(x_train, y_train), (x_test, y_test) = keras.datasets.mnist.load_data() \n",
    "plt.matshow(x_test[0])"
   ]
  },
  {
   "cell_type": "code",
   "execution_count": 42,
   "id": "ea9ffbc1",
   "metadata": {},
   "outputs": [
    {
     "data": {
      "text/plain": [
       "array([9.5702626e-04, 5.8810932e-05, 8.3878217e-04, 2.7268135e-03,\n",
       "       1.3670289e-04, 1.9243240e-04, 1.5970172e-05, 9.8738539e-01,\n",
       "       1.7171371e-04, 7.5163757e-03], dtype=float32)"
      ]
     },
     "execution_count": 42,
     "metadata": {},
     "output_type": "execute_result"
    }
   ],
   "source": [
    "#print the predictions for the first data on test set\n",
    "\n",
    "y_pred[0]"
   ]
  },
  {
   "cell_type": "code",
   "execution_count": 43,
   "id": "d6b974d4",
   "metadata": {},
   "outputs": [
    {
     "data": {
      "text/plain": [
       "7"
      ]
     },
     "execution_count": 43,
     "metadata": {},
     "output_type": "execute_result"
    }
   ],
   "source": [
    "#argmax function finds the argument that gives the maximum value from a target function.\n",
    "\n",
    "np.argmax(y_pred[0])"
   ]
  },
  {
   "cell_type": "markdown",
   "id": "51da5732",
   "metadata": {},
   "source": [
    "## Confusion Matrix"
   ]
  },
  {
   "cell_type": "code",
   "execution_count": 44,
   "id": "7d8733b4",
   "metadata": {},
   "outputs": [
    {
     "data": {
      "text/plain": [
       "<tf.Tensor: shape=(10, 10), dtype=int32, numpy=\n",
       "array([[ 958,    0,    2,    2,    0,    7,    8,    1,    2,    0],\n",
       "       [   0, 1109,    2,    2,    1,    3,    4,    1,   13,    0],\n",
       "       [  10,    4,  915,   12,   18,    1,   16,   16,   33,    7],\n",
       "       [   3,    1,   20,  917,    1,   26,    3,   15,   18,    6],\n",
       "       [   1,    5,    5,    2,  911,    1,   11,    2,    4,   40],\n",
       "       [  11,    4,    9,   44,   12,  761,   15,    4,   25,    7],\n",
       "       [  15,    3,    7,    0,   13,   17,  898,    1,    4,    0],\n",
       "       [   5,   13,   27,    4,    9,    0,    0,  941,    3,   26],\n",
       "       [   9,   10,   10,   26,   11,   23,   17,   12,  842,   14],\n",
       "       [  15,    9,    5,   13,   43,    7,    0,   14,    4,  899]])>"
      ]
     },
     "execution_count": 44,
     "metadata": {},
     "output_type": "execute_result"
    }
   ],
   "source": [
    "#confusion matrix\n",
    "\n",
    "y_pred_labels = [np.argmax(i) for i in y_pred]\n",
    "\n",
    "cm = tf.math.confusion_matrix(labels=y_test, predictions=y_pred_labels)\n",
    "cm"
   ]
  },
  {
   "cell_type": "code",
   "execution_count": 45,
   "id": "94a35466",
   "metadata": {},
   "outputs": [
    {
     "data": {
      "text/plain": [
       "Text(95.72222222222221, 0.5, 'Truth')"
      ]
     },
     "execution_count": 45,
     "metadata": {},
     "output_type": "execute_result"
    },
    {
     "data": {
      "image/png": "[encoded data removed]",
      "text/plain": [
       "<Figure size 1000x700 with 2 Axes>"
      ]
     },
     "metadata": {},
     "output_type": "display_data"
    }
   ],
   "source": [
    "#plot confusion matrix with seaborn heatmap\n",
    "\n",
    "plt.figure(figsize = (10,7))\n",
    "sn.heatmap(cm, annot=True, fmt='d')\n",
    "plt.xlabel('Predicted')\n",
    "plt.ylabel('Truth')"
   ]
  }
 ],
 "metadata": {
  "kernelspec": {
   "display_name": "Python 3 (ipykernel)",
   "language": "python",
   "name": "python3"
  },
  "language_info": {
   "codemirror_mode": {
    "name": "ipython",
    "version": 3
   },
   "file_extension": ".py",
   "mimetype": "text/x-python",
   "name": "python",
   "nbconvert_exporter": "python",
   "pygments_lexer": "ipython3",
   "version": "3.9.13"
  }
 },
 "nbformat": 4,
 "nbformat_minor": 5
}
