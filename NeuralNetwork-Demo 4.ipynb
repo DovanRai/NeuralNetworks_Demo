{
 "cells": [
  {
   "cell_type": "code",
   "execution_count": 1,
   "id": "6ac75f47",
   "metadata": {},
   "outputs": [],
   "source": [
    "#Import Libraries\n",
    "\n",
    "import pandas as pd\n",
    "import numpy as np\n",
    "import tensorflow as tf\n",
    "from sklearn.model_selection import GridSearchCV\n",
    "from tensorflow.keras.models import Sequential\n",
    "from tensorflow.keras.layers import Dense\n",
    "from tensorflow.keras.wrappers.scikit_learn import KerasClassifier\n",
    "\n",
    "#https://machinelearningmastery.com/grid-search-hyperparameters-deep-learning-models-python-keras/"
   ]
  },
  {
   "cell_type": "code",
   "execution_count": 2,
   "id": "b625ec04",
   "metadata": {},
   "outputs": [],
   "source": [
    "# Function to create model, required for KerasClassifier\n",
    "def create_model():\n",
    "\n",
    "    # create model\n",
    "    model = Sequential()\n",
    "    model.add(Dense(12, input_shape=(8,), activation='relu'))\n",
    "    model.add(Dense(1, activation='sigmoid'))\n",
    "\n",
    "    # Compile model\n",
    "    model.compile(loss='binary_crossentropy', optimizer='adam', metrics=['accuracy'])\n",
    "    return model"
   ]
  },
  {
   "cell_type": "code",
   "execution_count": 3,
   "id": "66de90ef",
   "metadata": {},
   "outputs": [],
   "source": [
    "# load dataset\n",
    "\n",
    "df = pd.read_csv('pima-indians-diabetes.csv')\n",
    "\n",
    "# split into input (X) and output (Y) variables\n",
    "X = df.iloc[:,0:8]\n",
    "Y = df.iloc[:,8]"
   ]
  },
  {
   "cell_type": "code",
   "execution_count": 4,
   "id": "37b1b913",
   "metadata": {},
   "outputs": [
    {
     "name": "stderr",
     "output_type": "stream",
     "text": [
      "C:\\Users\\drai\\AppData\\Local\\Temp\\ipykernel_15196\\1399974179.py:2: DeprecationWarning: KerasClassifier is deprecated, use Sci-Keras (https://github.com/adriangb/scikeras) instead. See https://www.adriangb.com/scikeras/stable/migration.html for help migrating.\n",
      "  model = KerasClassifier(build_fn=create_model, epochs=10, verbose=0) #set verbose=0 if you don't need the details\n"
     ]
    }
   ],
   "source": [
    "# create model\n",
    "model = KerasClassifier(build_fn=create_model, epochs=10, verbose=0) #set verbose=0 if you don't need the details"
   ]
  },
  {
   "cell_type": "code",
   "execution_count": 5,
   "id": "2bfe6ba9",
   "metadata": {},
   "outputs": [],
   "source": [
    "# define the grid search parameters\n",
    "batch_size = [10, 20, 40, 60, 80, 100]\n",
    "epochs = [10, 50, 100]\n",
    "param_grid = dict(batch_size=batch_size, epochs=epochs)\n",
    "\n",
    "grid = GridSearchCV(estimator=model, param_grid=param_grid, n_jobs=-1, cv=3)\n",
    "grid_result = grid.fit(X, Y)"
   ]
  },
  {
   "cell_type": "code",
   "execution_count": 6,
   "id": "e62c9c5a",
   "metadata": {},
   "outputs": [
    {
     "name": "stdout",
     "output_type": "stream",
     "text": [
      "Best: 0.698866 using {'batch_size': 10, 'epochs': 100}\n",
      "0.633711 (0.049186) with: {'batch_size': 10, 'epochs': 10}\n",
      "0.662311 (0.027612) with: {'batch_size': 10, 'epochs': 50}\n",
      "0.698866 (0.023623) with: {'batch_size': 10, 'epochs': 100}\n",
      "0.585412 (0.016214) with: {'batch_size': 20, 'epochs': 10}\n",
      "0.659799 (0.053783) with: {'batch_size': 20, 'epochs': 50}\n",
      "0.680571 (0.002198) with: {'batch_size': 20, 'epochs': 100}\n",
      "0.591942 (0.040759) with: {'batch_size': 40, 'epochs': 10}\n",
      "0.641519 (0.036184) with: {'batch_size': 40, 'epochs': 50}\n",
      "0.647891 (0.047968) with: {'batch_size': 40, 'epochs': 100}\n",
      "0.591794 (0.068576) with: {'batch_size': 60, 'epochs': 10}\n",
      "0.634942 (0.046248) with: {'batch_size': 60, 'epochs': 50}\n",
      "0.634937 (0.004065) with: {'batch_size': 60, 'epochs': 100}\n",
      "0.544863 (0.064879) with: {'batch_size': 80, 'epochs': 10}\n",
      "0.662275 (0.031186) with: {'batch_size': 80, 'epochs': 50}\n",
      "0.634901 (0.024586) with: {'batch_size': 80, 'epochs': 100}\n",
      "0.611438 (0.034523) with: {'batch_size': 100, 'epochs': 10}\n",
      "0.644087 (0.012218) with: {'batch_size': 100, 'epochs': 50}\n",
      "0.668908 (0.038081) with: {'batch_size': 100, 'epochs': 100}\n"
     ]
    }
   ],
   "source": [
    "# summarize results\n",
    "print(\"Best: %f using %s\" % (grid_result.best_score_, grid_result.best_params_))\n",
    "means = grid_result.cv_results_['mean_test_score']\n",
    "stds = grid_result.cv_results_['std_test_score']\n",
    "params = grid_result.cv_results_['params']\n",
    "\n",
    "for mean, stdev, param in zip(means, stds, params):\n",
    "    print(\"%f (%f) with: %r\" % (mean, stdev, param))"
   ]
  },
  {
   "cell_type": "code",
   "execution_count": null,
   "id": "ee784aad",
   "metadata": {},
   "outputs": [],
   "source": []
  }
 ],
 "metadata": {
  "kernelspec": {
   "display_name": "Python 3 (ipykernel)",
   "language": "python",
   "name": "python3"
  },
  "language_info": {
   "codemirror_mode": {
    "name": "ipython",
    "version": 3
   },
   "file_extension": ".py",
   "mimetype": "text/x-python",
   "name": "python",
   "nbconvert_exporter": "python",
   "pygments_lexer": "ipython3",
   "version": "3.9.13"
  }
 },
 "nbformat": 4,
 "nbformat_minor": 5
}
